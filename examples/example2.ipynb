{
 "cells": [
  {
   "cell_type": "markdown",
   "metadata": {},
   "source": [
    "Dependencies"
   ]
  },
  {
   "cell_type": "code",
   "execution_count": 1,
   "metadata": {},
   "outputs": [],
   "source": [
    "import numpy as np\n",
    "# import alpaca\n",
    "import matplotlib.pyplot as plt\n",
    "\n",
    "from utils.epsilon import eps\n",
    "from alpaca.parameters import params_general, params_gold, params_polystyrene\n",
    "from alpaca.PSF import PSFclass"
   ]
  },
  {
   "cell_type": "markdown",
   "metadata": {},
   "source": [
    "Load and adjust parameters"
   ]
  },
  {
   "cell_type": "code",
   "execution_count": 17,
   "metadata": {},
   "outputs": [],
   "source": [
    "params = params_general()\n",
    "# params = params_gold()\n",
    "# params = params_polystyrene()"
   ]
  },
  {
   "cell_type": "markdown",
   "metadata": {},
   "source": [
    "(Optionally) adjust parameters"
   ]
  },
  {
   "cell_type": "code",
   "execution_count": 3,
   "metadata": {},
   "outputs": [],
   "source": [
    "# params.radius = 75  #nm\n",
    "# params.wavelength = 600  #nm\n",
    "# params.px_size = 65 #nm"
   ]
  },
  {
   "cell_type": "markdown",
   "metadata": {},
   "source": [
    "Calculate and plot PSFs"
   ]
  },
  {
   "cell_type": "code",
   "execution_count": 18,
   "metadata": {},
   "outputs": [],
   "source": [
    "number_of_PSFs = 11\n",
    "\n",
    "\n",
    "PSF = PSFclass(params)\n",
    "beta_vector = np.linspace(0,np.pi,number_of_PSFs)\n",
    "# PSF_stack = np.zeros((PSF.num_px,PSF.num_px,number_of_PSFs))\n",
    "PSF_stack = np.zeros((PSF.num_px,PSF.num_px*number_of_PSFs))\n",
    "\n",
    "for i, beta in enumerate(beta_vector):\n",
    "    PSF.beta = beta\n",
    "    image = PSF.calc_PSF()\n",
    "    s = slice(i*PSF.num_px,PSF.num_px+i*PSF.num_px)\n",
    "\n",
    "    # PSF_stack[:,s] = image['PSF']    #no normalization\n",
    "    PSF_stack[:,s] = image['PSF']/np.max(image['PSF'])   #normalize each PSF"
   ]
  },
  {
   "cell_type": "code",
   "execution_count": 19,
   "metadata": {},
   "outputs": [
    {
     "data": {
      "image/png": "[encoded data removed]",
      "text/plain": [
       "<Figure size 2000x500 with 1 Axes>"
      ]
     },
     "metadata": {},
     "output_type": "display_data"
    }
   ],
   "source": [
    "plt.figure(figsize=(20,5))\n",
    "plt.imshow(PSF_stack)\n",
    "plt.axis('off')\n",
    "plt.show()"
   ]
  }
 ],
 "metadata": {
  "kernelspec": {
   "display_name": "base",
   "language": "python",
   "name": "python3"
  },
  "language_info": {
   "codemirror_mode": {
    "name": "ipython",
    "version": 3
   },
   "file_extension": ".py",
   "mimetype": "text/x-python",
   "name": "python",
   "nbconvert_exporter": "python",
   "pygments_lexer": "ipython3",
   "version": "3.12.6"
  }
 },
 "nbformat": 4,
 "nbformat_minor": 2
}
