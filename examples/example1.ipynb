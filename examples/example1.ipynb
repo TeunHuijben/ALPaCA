{
 "cells": [
  {
   "cell_type": "code",
   "execution_count": 1,
   "metadata": {},
   "outputs": [],
   "source": [
    "import numpy as np\n",
    "import alpaca\n",
    "import matplotlib.pyplot as plt\n",
    "\n",
    "from utils.epsilon import eps\n",
    "from alpaca.parameters import params_general\n",
    "from alpaca.PSF import PSFclass"
   ]
  },
  {
   "cell_type": "code",
   "execution_count": 7,
   "metadata": {},
   "outputs": [
    {
     "name": "stdout",
     "output_type": "stream",
     "text": [
      "(-9.071653758599483+1.4080725191103145j)\n",
      "(-14.08521276658323+0.6383016270558786j)\n",
      "1.9795251996816525\n"
     ]
    }
   ],
   "source": [
    "print(eps.epsAu(600))\n",
    "print(eps.epsAg(600))\n",
    "print(eps.nPSL(200))"
   ]
  },
  {
   "cell_type": "code",
   "execution_count": 3,
   "metadata": {},
   "outputs": [
    {
     "name": "stdout",
     "output_type": "stream",
     "text": [
      "\t focus =  106  nm\n"
     ]
    },
    {
     "data": {
      "image/png": "[encoded data removed]",
      "text/plain": [
       "<Figure size 640x480 with 1 Axes>"
      ]
     },
     "metadata": {},
     "output_type": "display_data"
    }
   ],
   "source": [
    "params = params_general()\n",
    "params.beta = 0\n",
    "\n",
    "PSF = PSFclass(params)\n",
    "image = PSF.calc_PSF()\n",
    "\n",
    "plt.figure()\n",
    "plt.imshow(image['PSF'])\n",
    "plt.show()"
   ]
  },
  {
   "cell_type": "code",
   "execution_count": null,
   "metadata": {},
   "outputs": [],
   "source": []
  },
  {
   "cell_type": "code",
   "execution_count": null,
   "metadata": {},
   "outputs": [],
   "source": []
  }
 ],
 "metadata": {
  "kernelspec": {
   "display_name": "base",
   "language": "python",
   "name": "python3"
  },
  "language_info": {
   "codemirror_mode": {
    "name": "ipython",
    "version": 3
   },
   "file_extension": ".py",
   "mimetype": "text/x-python",
   "name": "python",
   "nbconvert_exporter": "python",
   "pygments_lexer": "ipython3",
   "version": "3.12.6"
  }
 },
 "nbformat": 4,
 "nbformat_minor": 2
}
