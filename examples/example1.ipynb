{
 "cells": [
  {
   "cell_type": "code",
   "execution_count": 1,
   "metadata": {},
   "outputs": [],
   "source": [
    "import numpy as np\n",
    "import alpaca\n",
    "\n",
    "from utils.epsilon import eps\n",
    "from alpaca.parameters import params_general\n",
    "from alpaca.PSF import PSFclass\n",
    "\n",
    "# from alpaca.parameters import params_general\n",
    "# from alpaca.PSF import PSFclass"
   ]
  },
  {
   "cell_type": "code",
   "execution_count": 2,
   "metadata": {},
   "outputs": [],
   "source": [
    "params = params_general()\n",
    "\n",
    "PSF = PSFclass(params)"
   ]
  },
  {
   "cell_type": "code",
   "execution_count": 3,
   "metadata": {},
   "outputs": [
    {
     "name": "stdout",
     "output_type": "stream",
     "text": [
      "\t focus =  106  nm\n"
     ]
    },
    {
     "ename": "NameError",
     "evalue": "name 'mathfunc' is not defined",
     "output_type": "error",
     "traceback": [
      "\u001b[0;31m---------------------------------------------------------------------------\u001b[0m",
      "\u001b[0;31mNameError\u001b[0m                                 Traceback (most recent call last)",
      "Cell \u001b[0;32mIn[3], line 1\u001b[0m\n\u001b[0;32m----> 1\u001b[0m image \u001b[38;5;241m=\u001b[39m \u001b[43mPSF\u001b[49m\u001b[38;5;241;43m.\u001b[39;49m\u001b[43mcalc_PSF\u001b[49m\u001b[43m(\u001b[49m\u001b[43m)\u001b[49m\n\u001b[1;32m      3\u001b[0m \u001b[38;5;28mprint\u001b[39m(image)\n",
      "File \u001b[0;32m~/Documents/code/github/ALPaCA/alpaca/alpaca/PSF.py:59\u001b[0m, in \u001b[0;36mPSFclass.calc_PSF\u001b[0;34m(self)\u001b[0m\n\u001b[1;32m     56\u001b[0m swe_scatt_manual,swe_initial_manual     \u001b[38;5;241m=\u001b[39m \u001b[38;5;28mself\u001b[39m\u001b[38;5;241m.\u001b[39mrotate_SWEs(swe_scatt_manual,swe_initial_manual)\n\u001b[1;32m     58\u001b[0m \u001b[38;5;66;03m# #STEP 3 - SPA\u001b[39;00m\n\u001b[0;32m---> 59\u001b[0m spa_vectors, spa_fields                 \u001b[38;5;241m=\u001b[39m \u001b[38;5;28;43mself\u001b[39;49m\u001b[38;5;241;43m.\u001b[39;49m\u001b[43mdo_SPA_unitVec\u001b[49m\u001b[43m(\u001b[49m\u001b[43mswe_scatt_manual\u001b[49m\u001b[38;5;241;43m+\u001b[39;49m\u001b[43mswe_initial_manual\u001b[49m\u001b[43m,\u001b[49m\u001b[43mk\u001b[49m\u001b[43m)\u001b[49m\n\u001b[1;32m     61\u001b[0m \u001b[38;5;66;03m# #STEP 4 - FOCUS\u001b[39;00m\n\u001b[1;32m     62\u001b[0m \u001b[38;5;66;03m# integral_output                                     = self.do_focus_integral_fast_unitVec(spa_vectors,spa_fields)\u001b[39;00m\n\u001b[1;32m     64\u001b[0m integral_output \u001b[38;5;241m=\u001b[39m \u001b[38;5;241m5\u001b[39m\n",
      "File \u001b[0;32m~/Documents/code/github/ALPaCA/alpaca/alpaca/PSF.py:312\u001b[0m, in \u001b[0;36mPSFclass.do_SPA_unitVec\u001b[0;34m(self, swe_to_use, k)\u001b[0m\n\u001b[1;32m    308\u001b[0m \u001b[38;5;66;03m## MAKE PWE DOWNs FOR BOTH FIELDS (scattering + initial)\u001b[39;00m\n\u001b[1;32m    309\u001b[0m layer_system \u001b[38;5;241m=\u001b[39m LayerSystem(thicknesses\u001b[38;5;241m=\u001b[39m[\u001b[38;5;241m0\u001b[39m, \u001b[38;5;241m0\u001b[39m],\n\u001b[1;32m    310\u001b[0m                                         refractive_indices\u001b[38;5;241m=\u001b[39m[\u001b[38;5;28mself\u001b[39m\u001b[38;5;241m.\u001b[39mn_glass, \u001b[38;5;28mself\u001b[39m\u001b[38;5;241m.\u001b[39mn_water])\n\u001b[0;32m--> 312\u001b[0m _ , pwe_down \u001b[38;5;241m=\u001b[39m \u001b[43mswe_to_pwe_conversion\u001b[49m\u001b[43m(\u001b[49m\u001b[43mswe_to_use\u001b[49m\u001b[43m,\u001b[49m\n\u001b[1;32m    313\u001b[0m \u001b[43m                                            \u001b[49m\u001b[43mk_parallel\u001b[49m\u001b[38;5;241;43m=\u001b[39;49m\u001b[43mkappa_wanted\u001b[49m\u001b[43m,\u001b[49m\n\u001b[1;32m    314\u001b[0m \u001b[43m                                            \u001b[49m\u001b[43mazimuthal_angles\u001b[49m\u001b[38;5;241;43m=\u001b[39;49m\u001b[43malphas_wanted\u001b[49m\u001b[43m,\u001b[49m\n\u001b[1;32m    315\u001b[0m \u001b[43m                                            \u001b[49m\u001b[43mlayer_system\u001b[49m\u001b[38;5;241;43m=\u001b[39;49m\u001b[43mlayer_system\u001b[49m\u001b[43m,\u001b[49m\u001b[43m \u001b[49m\u001b[43mlayer_number\u001b[49m\u001b[38;5;241;43m=\u001b[39;49m\u001b[38;5;241;43m0\u001b[39;49m\u001b[43m,\u001b[49m\n\u001b[1;32m    316\u001b[0m \u001b[43m                                            \u001b[49m\u001b[43mlayer_system_mediated\u001b[49m\u001b[38;5;241;43m=\u001b[39;49m\u001b[38;5;28;43;01mTrue\u001b[39;49;00m\u001b[43m)\u001b[49m\n\u001b[1;32m    318\u001b[0m \u001b[38;5;66;03m#GET KAPPAS/ALPHAS grids\u001b[39;00m\n\u001b[1;32m    319\u001b[0m kappas_grid \u001b[38;5;241m=\u001b[39m pwe_down\u001b[38;5;241m.\u001b[39mk_parallel_grid()       \u001b[38;5;66;03m# (NxN)\u001b[39;00m\n",
      "File \u001b[0;32m~/Documents/code/github/ALPaCA/alpaca/vendored/smuthi/transformations.py:95\u001b[0m, in \u001b[0;36mswe_to_pwe_conversion\u001b[0;34m(swe, k_parallel, azimuthal_angles, layer_system, layer_number, layer_system_mediated, only_l, only_m, only_pol, only_tau)\u001b[0m\n\u001b[1;32m     93\u001b[0m ct_up \u001b[38;5;241m=\u001b[39m pwe_up\u001b[38;5;241m.\u001b[39mk_z() \u001b[38;5;241m/\u001b[39m swe\u001b[38;5;241m.\u001b[39mk\n\u001b[1;32m     94\u001b[0m st_up \u001b[38;5;241m=\u001b[39m pwe_up\u001b[38;5;241m.\u001b[39mk_parallel \u001b[38;5;241m/\u001b[39m swe\u001b[38;5;241m.\u001b[39mk\n\u001b[0;32m---> 95\u001b[0m plm_list_up, pilm_list_up, taulm_list_up \u001b[38;5;241m=\u001b[39m \u001b[43mmathfunc\u001b[49m\u001b[38;5;241m.\u001b[39mlegendre_normalized(ct_up, st_up, swe\u001b[38;5;241m.\u001b[39ml_max)\n\u001b[1;32m     97\u001b[0m ct_down \u001b[38;5;241m=\u001b[39m pwe_down\u001b[38;5;241m.\u001b[39mk_z() \u001b[38;5;241m/\u001b[39m swe\u001b[38;5;241m.\u001b[39mk\n\u001b[1;32m     98\u001b[0m st_down \u001b[38;5;241m=\u001b[39m pwe_down\u001b[38;5;241m.\u001b[39mk_parallel \u001b[38;5;241m/\u001b[39m swe\u001b[38;5;241m.\u001b[39mk\n",
      "\u001b[0;31mNameError\u001b[0m: name 'mathfunc' is not defined"
     ]
    }
   ],
   "source": [
    "image = PSF.calc_PSF()\n",
    "\n",
    "print(image)"
   ]
  },
  {
   "cell_type": "code",
   "execution_count": null,
   "metadata": {},
   "outputs": [],
   "source": []
  }
 ],
 "metadata": {
  "kernelspec": {
   "display_name": "base",
   "language": "python",
   "name": "python3"
  },
  "language_info": {
   "codemirror_mode": {
    "name": "ipython",
    "version": 3
   },
   "file_extension": ".py",
   "mimetype": "text/x-python",
   "name": "python",
   "nbconvert_exporter": "python",
   "pygments_lexer": "ipython3",
   "version": "3.10.14"
  }
 },
 "nbformat": 4,
 "nbformat_minor": 2
}
